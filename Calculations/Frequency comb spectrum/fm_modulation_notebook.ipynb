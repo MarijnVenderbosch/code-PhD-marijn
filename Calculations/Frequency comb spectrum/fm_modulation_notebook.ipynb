{
 "cells": [
  {
   "cell_type": "code",
   "execution_count": 2,
   "metadata": {},
   "outputs": [],
   "source": [
    "import numpy as np\n",
    "import matplotlib.pyplot as plt"
   ]
  },
  {
   "cell_type": "code",
   "execution_count": 3,
   "metadata": {},
   "outputs": [],
   "source": [
    "# signal generation\n",
    "fn = 500\n",
    "fs = 2 * fn\n",
    "t = np.arange(0, 10, 1 / fs)\n",
    "\n",
    "f_sig = 0.1\n",
    "sig =  np.cos(2 * np.pi * f_sig * t)"
   ]
  },
  {
   "cell_type": "markdown",
   "metadata": {},
   "source": [
    "## test\n",
    "\n",
    "# FM definition Wikipedia:\n",
    "\n"
   ]
  },
  {
   "cell_type": "code",
   "execution_count": null,
   "metadata": {},
   "outputs": [],
   "source": [
    "fc = 10\n",
    "k = 0.05\n",
    "phi = 2 * np.pi * fc * t + k * np.pi * cumsum(sig)\n",
    "\n",
    "# modulated signal\n",
    "sig_mod = np.cos(phi)"
   ]
  }
 ],
 "metadata": {
  "kernelspec": {
   "display_name": "Python 3.9.12 ('base')",
   "language": "python",
   "name": "python3"
  },
  "language_info": {
   "codemirror_mode": {
    "name": "ipython",
    "version": 3
   },
   "file_extension": ".py",
   "mimetype": "text/x-python",
   "name": "python",
   "nbconvert_exporter": "python",
   "pygments_lexer": "ipython3",
   "version": "3.9.12"
  },
  "orig_nbformat": 4,
  "vscode": {
   "interpreter": {
    "hash": "14c7f533cff018711ec65140b97609336940978ff0533c6c34eedeca46415c86"
   }
  }
 },
 "nbformat": 4,
 "nbformat_minor": 2
}
