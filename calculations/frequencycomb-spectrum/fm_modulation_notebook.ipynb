{
 "cells": [
  {
   "cell_type": "code",
   "execution_count": 1,
   "metadata": {},
   "outputs": [],
   "source": [
    "import numpy as np\n",
    "\n",
    "# variables\n",
    "sampling_frequency = int(10e7)\n",
    "nyquist_frequency = sampling_frequency / 2\n",
    "\n",
    "time_interval = 1e-3\n",
    "t = np.arange(0, time_interval, 1 / sampling_frequency)\n",
    "\n",
    "modulation_frequency = 20e3# 1/s\n",
    "carrier_frequency = 2e6 # 1/s\n",
    "k = 150 # sensitivity"
   ]
  },
  {
   "cell_type": "markdown",
   "metadata": {},
   "source": [
    "#### FM definition Wikipedia:\n",
    "\n",
    "$$ FM(t) = A_c \\cos\\left(\\omega_c t + \\int_0^t \\omega_{\\Delta} x_m(t')dt'\\right)$$ \n",
    "\n",
    "If the modulation signal consists of only a single frequency, this simplifies to \n",
    "\n",
    "$$ FM(t) = A_c \\cos\\left(\\omega_c t + \\frac{\\omega_{\\Delta}}{\\omega_m}\\sin(\\omega_m t)\\right)$$\n",
    "\n",
    "Defining modulation depth paramter $k = \\omega_{\\Delta}/\\omega_m$ (dimensionless) finally leaves\n",
    "\n",
    "$$ FM(t) = A_c \\cos\\left(\\omega_c t + k\\sin(\\omega_m t)\\right)$$\n",
    "\n",
    "Acoording to https://www.johndcook.com/blog/2016/02/17/analyzing-an-fm-signal/, this result can be fourier expanded. Using Fourier notation, it is clear that the results consists of a superposition of frequencies with prefactor $J_j(k)$ or $\\beta$ is the modulation index here:\n",
    "\n",
    "$$FM(t) = \\sum_{j=-\\infty}^{\\infty} J_j(\\beta) \\cos\\left[(\\omega_c+j f_m)t\\right]$$"
   ]
  },
  {
   "cell_type": "code",
   "execution_count": 2,
   "metadata": {},
   "outputs": [],
   "source": [
    "# carrier signal\n",
    "phi = 2 * np.pi * carrier_frequency * t + k * np.sin(2 * np.pi * modulation_frequency * t)\n",
    "FM = np.cos(phi)"
   ]
  },
  {
   "cell_type": "code",
   "execution_count": 3,
   "metadata": {},
   "outputs": [],
   "source": [
    "# now we will compute the fourier transform of the signal\n",
    "from scipy.fft import fft,fftfreq"
   ]
  },
  {
   "cell_type": "code",
   "execution_count": 4,
   "metadata": {},
   "outputs": [],
   "source": [
    "# samples\n",
    "N = int(sampling_frequency * time_interval)\n",
    "T = time_interval / N\n",
    "\n",
    "# fourier coordinates\n",
    "Y = fft(FM)\n",
    "xf = fftfreq(N, T)[:N // 2]"
   ]
  },
  {
   "cell_type": "code",
   "execution_count": 5,
   "metadata": {},
   "outputs": [
    {
     "data": {
      "text/plain": [
       "(-2500000.0, 6500000.0)"
      ]
     },
     "execution_count": 5,
     "metadata": {},
     "output_type": "execute_result"
    },
    {
     "data": {
      "image/png": "[encoded data removed]",
      "text/plain": [
       "<Figure size 432x288 with 1 Axes>"
      ]
     },
     "metadata": {
      "needs_background": "light"
     },
     "output_type": "display_data"
    }
   ],
   "source": [
    "import matplotlib.pyplot as plt\n",
    "\n",
    "fig, ax = plt.subplots()\n",
    "ax.stem(xf, 2.0 / N * np.abs(Y[0 : N // 2]), markerfmt = \" \", basefmt = \"b\")\n",
    "ax.set_xlim(carrier_frequency - 1.5 * k * modulation_frequency, carrier_frequency + 1.5 * k * modulation_frequency)"
   ]
  },
  {
   "cell_type": "markdown",
   "metadata": {},
   "source": [
    "To check we compare the result to $\\sum_{j=-\\infty}^{\\infty} J_j(\\beta) \\cos\\left[(\\omega_c+j f_m)t\\right]$. The pre-factors are thus $|J_j(\\beta)|$, Bessel function of the first kind"
   ]
  },
  {
   "cell_type": "code",
   "execution_count": 9,
   "metadata": {},
   "outputs": [
    {
     "data": {
      "text/plain": [
       "<StemContainer object of 3 artists>"
      ]
     },
     "execution_count": 9,
     "metadata": {},
     "output_type": "execute_result"
    },
    {
     "data": {
      "image/png": "[encoded data removed]",
      "text/plain": [
       "<Figure size 1080x288 with 1 Axes>"
      ]
     },
     "metadata": {
      "needs_background": "light"
     },
     "output_type": "display_data"
    }
   ],
   "source": [
    "from scipy.special import jv\n",
    "\n",
    "def bessel_function_firstkind(order, index):\n",
    "    return jv(order, index)\n",
    "\n",
    "# initialize empty matrices\n",
    "indices = np.linspace(- k -5, k + 5, 2 * k + 11)\n",
    "\n",
    "amplitude_array = bessel_function_firstkind(indices, k)\n",
    "\n",
    "fig, ax = plt.subplots(figsize = (20, 4))\n",
    "ax.stem(indices, abs(amplitude_array), markerfmt = \" \", basefmt = \"b\")\n"
   ]
  }
 ],
 "metadata": {
  "kernelspec": {
   "display_name": "Python 3.9.12 ('base')",
   "language": "python",
   "name": "python3"
  },
  "language_info": {
   "codemirror_mode": {
    "name": "ipython",
    "version": 3
   },
   "file_extension": ".py",
   "mimetype": "text/x-python",
   "name": "python",
   "nbconvert_exporter": "python",
   "pygments_lexer": "ipython3",
   "version": "3.9.12"
  },
  "orig_nbformat": 4,
  "vscode": {
   "interpreter": {
    "hash": "14c7f533cff018711ec65140b97609336940978ff0533c6c34eedeca46415c86"
   }
  }
 },
 "nbformat": 4,
 "nbformat_minor": 2
}
